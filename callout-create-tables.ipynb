{
 "cells": [
  {
   "cell_type": "code",
   "execution_count": null,
   "metadata": {
    "collapsed": true
   },
   "outputs": [],
   "source": [
    "# Import libraries\n",
    "import numpy as np\n",
    "import pandas as pd\n",
    "import matplotlib.pyplot as plt\n",
    "import re\n",
    "import psycopg2\n",
    "import sys\n",
    "\n",
    "from IPython.display import display, HTML # used to print out pretty pandas dataframes\\n\n",
    "\n",
    "# querying oracle\n",
    "import cx_Oracle\n",
    "\n",
    "# prompt for password without echoing it\n",
    "import getpass\n",
    "\n",
    "def load_query(fn):\n",
    "    # load SQL code which gets census info for patients\n",
    "    with open(fn, 'r') as f:\n",
    "        qry = f.read()\n",
    "\n",
    "\n",
    "    # remove empty lines\n",
    "    while '\\n\\n' in qry:\n",
    "        qry = qry.replace('\\n\\n','\\n')\n",
    "\n",
    "    # remove semicolon at end\n",
    "    qry = qry.rstrip('\\n').rstrip(';')\n",
    "    return qry\n"
   ]
  },
  {
   "cell_type": "code",
   "execution_count": null,
   "metadata": {
    "collapsed": false
   },
   "outputs": [],
   "source": [
    "# configure the connections for both oracle and a local postgres database\n",
    "\n",
    "# PostgreSQL config which works on pc70\n",
    "sqluser = getpass.getuser()\n",
    "dbname = 'mimic'\n",
    "schema_name = 'mimiciii'\n",
    "\n",
    "\n",
    "print('PostgreSQL username: ' + sqluser)\n",
    "print('PostgreSQL database: ' + dbname)\n",
    "print('PostgreSQL schema: ' + schema_name)\n",
    "\n",
    "# Connect to local postgres version of mimic\n",
    "con = psycopg2.connect(dbname=dbname, user=sqluser)\n",
    "\n",
    "# Oracle which works on pc70 and connects to hera (need username/password)\n",
    "dbservice = 'MIMIC2'\n",
    "dbstring = 'localhost:3309/' + dbservice\n",
    "\n",
    "# connect to oracle **requires a tunnel in the background** - pc70 is configured to use port 3309\n",
    "# tunnel command: ssh -n -N -f -L 3309:localhost:1521 alistairewj@hera\n",
    "print('Oracle Username: ' + sqluser)\n",
    "db = cx_Oracle.connect(getpass.getuser() + '/' + getpass.getpass('Oracle Password: ') + '@' + dbstring)\n",
    "print('Oracle v' + db.version)"
   ]
  },
  {
   "cell_type": "code",
   "execution_count": null,
   "metadata": {
    "collapsed": false
   },
   "outputs": [],
   "source": [
    "qry = load_query('sql/0-phi-info.sql')\n",
    "\n",
    "# execute query on database and get resultant rows\n",
    "cur = db.cursor()\n",
    "cur.execute(qry)\n",
    "data = cur.fetchall()\n",
    "        \n",
    "# extract column names from description\n",
    "colNames = cur.description\n",
    "colNames = [x[0] for idx, x in enumerate(colNames)]\n",
    "cur.close()\n",
    "\n",
    "# save data in dataframe\n",
    "df_phi = pd.DataFrame.from_records(data, index=None, exclude=None,\n",
    "                               columns=colNames,\n",
    "                               coerce_float=False, nrows=None)\n",
    "\n",
    "# convert columns to lowercase - makes them consistent with postgresql\n",
    "df_phi.columns = [x.lower() for x in df_phi.columns]"
   ]
  },
  {
   "cell_type": "code",
   "execution_count": null,
   "metadata": {
    "collapsed": false
   },
   "outputs": [],
   "source": [
    "# run all the SQL scripts for PostgreSQL - these generate materialized views\n",
    "cur = con.cursor()\n",
    "cur.execute('SET search_path to ' + schema_name)\n",
    "qry = load_query('sql/1-define-cohort.sql')\n",
    "cur.execute(qry)\n",
    "qry = load_query('sql/2-icu-variables.sql')\n",
    "cur.execute(qry)\n",
    "qry = load_query('sql/3-final-design-matrix.sql')\n",
    "cur.execute(qry)\n",
    "cur.execute('commit;')\n",
    "cur.close()\n",
    "\n",
    "# final query which actually pulls the data\n",
    "qry = \\\n",
    "\"\"\"\n",
    "select \n",
    "    *\n",
    "from dd_design_matrix\n",
    "order by icustay_id\n",
    "\"\"\"\n",
    "df = pd.read_sql_query(qry,con)"
   ]
  },
  {
   "cell_type": "markdown",
   "metadata": {},
   "source": [
    "We now have two dataframes: `df` with most of the callout data (extracted from a local PostgreSQL instance) and `df_phi` with the census related data (extracted from an Oracle instance which connects to hera)."
   ]
  },
  {
   "cell_type": "code",
   "execution_count": null,
   "metadata": {
    "collapsed": false
   },
   "outputs": [],
   "source": [
    "# write the data to file\n",
    "df_phi.to_csv('callout-phi.csv',sep=',',na_rep='NA',header=True,index=False)\n",
    "df.to_csv('callout.csv',sep=',',na_rep='NA',header=True,index=False)"
   ]
  },
  {
   "cell_type": "code",
   "execution_count": null,
   "metadata": {
    "collapsed": false
   },
   "outputs": [],
   "source": [
    "# print some stats\n",
    "print('Data size, normal: {}, PHI: {}'.format(df.shape[0],df_phi.shape[0]))\n",
    "if df.shape[0]==df_phi.shape[0]:\n",
    "    print('Overlap in ICUSTAY_ID: {:2.2f}'.format( len(np.union1d(df['icustay_id'],df_phi['icustay_id'])) / df.shape[0] * 100.0 ))"
   ]
  }
 ],
 "metadata": {
  "kernelspec": {
   "display_name": "Python 2",
   "language": "python",
   "name": "python2"
  },
  "language_info": {
   "codemirror_mode": {
    "name": "ipython",
    "version": 2
   },
   "file_extension": ".py",
   "mimetype": "text/x-python",
   "name": "python",
   "nbconvert_exporter": "python",
   "pygments_lexer": "ipython2",
   "version": "2.7.9"
  }
 },
 "nbformat": 4,
 "nbformat_minor": 0
}
